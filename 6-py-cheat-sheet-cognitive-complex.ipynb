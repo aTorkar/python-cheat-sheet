{
 "cells": [
  {
   "cell_type": "markdown",
   "id": "a1c4b698",
   "metadata": {},
   "source": [
    "## Cognitive complexity\n",
    "\n",
    "Increases when: \n",
    "<li>ther are multtiple nested structres (e.g. if/else conditions)</li>\n",
    "<li>there is flow-breaking code (e.g. for loops)</li>"
   ]
  },
  {
   "cell_type": "markdown",
   "id": "37d23ffe",
   "metadata": {},
   "source": [
    "### Reduce cognitive complexity\n",
    "\n",
    "### Approaches:\n",
    "\n",
    "\n",
    "#### Avoid breaks in the code"
   ]
  },
  {
   "cell_type": "code",
   "execution_count": 1,
   "id": "1ef4a87a",
   "metadata": {},
   "outputs": [],
   "source": [
    "def adder(a: int, b: int, c: int) -> int:\n",
    "    total_sum = 0\n",
    "    nums_to_add = [a, b, c]\n",
    "    \n",
    "    for i in range(len(nums_to_add)):\n",
    "        total_sum += nums_to_add[i]\n",
    "        \n",
    "    return total_sum"
   ]
  },
  {
   "cell_type": "code",
   "execution_count": 2,
   "id": "066d97e2",
   "metadata": {},
   "outputs": [],
   "source": [
    "# with decreased cognitive complexity\n",
    "def adder_better(d: int, e: int, f: int) -> int:\n",
    "    total_sum_better = 0\n",
    "    total_sum_better += d\n",
    "    total_sum_better += e\n",
    "    total_sum_better += f\n",
    "    return total_sum_better"
   ]
  },
  {
   "cell_type": "code",
   "execution_count": 3,
   "id": "ac99b2e2",
   "metadata": {},
   "outputs": [
    {
     "name": "stdout",
     "output_type": "stream",
     "text": [
      "Higher cognitive complexity. Sum is: 66\n",
      "Lower cognitive complexity. Sum is: 99\n"
     ]
    }
   ],
   "source": [
    "print(\"Higher cognitive complexity. Sum is:\", adder(11, 22, 33))\n",
    "print(\"Lower cognitive complexity. Sum is:\", adder_better(22, 33, 44))"
   ]
  },
  {
   "cell_type": "markdown",
   "id": "3926ebf0",
   "metadata": {},
   "source": [
    "#### Move repeated code to a separate function"
   ]
  },
  {
   "cell_type": "code",
   "execution_count": 4,
   "id": "7fceb3ca",
   "metadata": {},
   "outputs": [],
   "source": [
    "def amount_checker(a: int, b: int, c: int, d: int) -> None:\n",
    "    if (a + b) < 10:\n",
    "        print(\"Number is small\")\n",
    "    else:\n",
    "        print(\"Number is large\")\n",
    "        \n",
    "    if (c + d) < 10:\n",
    "        print(\"Number is small\")\n",
    "    else:\n",
    "        print(\"Number is large\")"
   ]
  },
  {
   "cell_type": "code",
   "execution_count": 5,
   "id": "5f5659b8",
   "metadata": {},
   "outputs": [],
   "source": [
    "# wiht decreased cognitive complexity\n",
    "def amount_checker_better(a: int, b: int, c: int, d: int) -> None:\n",
    "    find_size(a, b)\n",
    "    find_size(c, d)\n",
    "    \n",
    "def find_size(k: int, l: int) -> None:\n",
    "    if (k + l) < 10:\n",
    "        print(\"Number is small\")\n",
    "    else:\n",
    "        print(\"Number is large\")"
   ]
  },
  {
   "cell_type": "code",
   "execution_count": 6,
   "id": "69a64186",
   "metadata": {},
   "outputs": [
    {
     "name": "stdout",
     "output_type": "stream",
     "text": [
      "Higher complexity:\n",
      "Number is small\n",
      "Number is large\n",
      "\n",
      "With decreased complexity:\n",
      "Number is small\n",
      "Number is large\n"
     ]
    }
   ],
   "source": [
    "print(\"Higher complexity:\")\n",
    "amount_checker(2, 3, 1, 44)\n",
    "print()\n",
    "print(\"With decreased complexity:\")\n",
    "amount_checker_better(2, 3, 1, 44)"
   ]
  },
  {
   "cell_type": "markdown",
   "id": "ea4c1a22",
   "metadata": {},
   "source": [
    "#### Move nested if else to a separate function"
   ]
  },
  {
   "cell_type": "code",
   "execution_count": 7,
   "id": "c9389936",
   "metadata": {},
   "outputs": [],
   "source": [
    "# with higher cognitive complexity\n",
    "def compute_sum(a: int, b: int, c: int, d: int) -> float:\n",
    "    if a + b < 10:\n",
    "        if c + d < 20:\n",
    "            total_sum = a + b + c + d\n",
    "        else:\n",
    "            total_sum = a + b + (c + d) / 2\n",
    "    else:\n",
    "        if c + d < 20:\n",
    "            total_sum = (a + b) / 2 + c + d\n",
    "        else:\n",
    "            total_sum = (a + b + c + d) / 2\n",
    "        \n",
    "    return total_sum"
   ]
  },
  {
   "cell_type": "code",
   "execution_count": 8,
   "id": "85c0b8a1",
   "metadata": {},
   "outputs": [],
   "source": [
    "# with decreased cognitive complexity\n",
    "def compute_sum_better(e: int, f: int, g: int, h: int) -> float:\n",
    "    total_sum = sum_checker(e, f) + sum_checker(g, h)\n",
    "    return total_sum       \n",
    "\n",
    "def sum_checker(k: int, l: int) -> int:\n",
    "    if k + l < 10:\n",
    "        return k + l\n",
    "    return (k + l) / 2"
   ]
  },
  {
   "cell_type": "code",
   "execution_count": 9,
   "id": "d7b60d27",
   "metadata": {},
   "outputs": [],
   "source": [
    "# TODO solution with early return\n",
    "# http://www.itamarweiss.com/personal/2018/02/28/return-early-pattern.html\n",
    "\n",
    "def compute_sum_with_early_return(a: int, b: int, c: int, d: int) -> float:\n",
    "    if a + b >= 10:\n",
    "        total_sum = sum_checker2(c, d, 20) + (a + b) / 2\n",
    "    \n",
    "    total_sum = sum_checker2(c, d, 20) + a + b\n",
    "    return total_sum\n",
    "            \n",
    "\n",
    "def sum_checker2(k: int, l: int, threshold: int) -> int:\n",
    "    if k + l < threshold:\n",
    "        return k + l \n",
    "    return (k + l) / 2"
   ]
  },
  {
   "cell_type": "code",
   "execution_count": 10,
   "id": "8aa723e8",
   "metadata": {},
   "outputs": [
    {
     "name": "stdout",
     "output_type": "stream",
     "text": [
      "With higher cognitive complexity, the sum is: 36.0\n",
      "With lower cognitive complexity, the sum is: 36.0\n",
      "With lower cognitive complexity, early return, the sum is: 36.0\n",
      "\n",
      "With higher cognitive complexity, the sum is: 9\n",
      "With lower cognitive complexity, the sum is: 9\n",
      "With lower cognitive complexity, early return, the sum is: 9\n"
     ]
    }
   ],
   "source": [
    "print(\"With higher cognitive complexity, the sum is:\", compute_sum(1, 2, 22, 44))\n",
    "print(\"With lower cognitive complexity, the sum is:\", compute_sum_better(1, 2, 22, 44))\n",
    "print(\"With lower cognitive complexity, early return, the sum is:\", compute_sum_with_early_return(1, 2, 22, 44))\n",
    "print()\n",
    "print(\"With higher cognitive complexity, the sum is:\", compute_sum(1, 2, 2, 4))\n",
    "print(\"With lower cognitive complexity, the sum is:\", compute_sum_better(1, 2, 2, 4))\n",
    "print(\"With lower cognitive complexity, early return, the sum is:\", compute_sum_with_early_return(1, 2, 2, 4))"
   ]
  },
  {
   "cell_type": "markdown",
   "id": "adbf0097",
   "metadata": {},
   "source": [
    "#### Use ternary operator"
   ]
  },
  {
   "cell_type": "code",
   "execution_count": 11,
   "id": "13d7b9f0",
   "metadata": {},
   "outputs": [],
   "source": [
    "# with higher cognitive complexity\n",
    "def size_checker(a: int, b: int) -> bool:\n",
    "    if a + b < 20:\n",
    "        return True\n",
    "    else:\n",
    "        return False"
   ]
  },
  {
   "cell_type": "code",
   "execution_count": 12,
   "id": "1659e571",
   "metadata": {},
   "outputs": [],
   "source": [
    "def size_checker_better(a: int, b: int) -> bool:\n",
    "    return True if a + b < 20 else False"
   ]
  },
  {
   "cell_type": "code",
   "execution_count": 13,
   "id": "b5a17f80",
   "metadata": {},
   "outputs": [
    {
     "name": "stdout",
     "output_type": "stream",
     "text": [
      "With higher cognitive complexity, the sum is: True\n",
      "With lower cognitive complexity, the sum is: False\n"
     ]
    }
   ],
   "source": [
    "print(\"With higher cognitive complexity, the sum is:\", size_checker(3, 5))\n",
    "print(\"With lower cognitive complexity, the sum is:\", size_checker_better(18, 9))"
   ]
  }
 ],
 "metadata": {
  "kernelspec": {
   "display_name": "Python 3 (ipykernel)",
   "language": "python",
   "name": "python3"
  },
  "language_info": {
   "codemirror_mode": {
    "name": "ipython",
    "version": 3
   },
   "file_extension": ".py",
   "mimetype": "text/x-python",
   "name": "python",
   "nbconvert_exporter": "python",
   "pygments_lexer": "ipython3",
   "version": "3.11.3"
  }
 },
 "nbformat": 4,
 "nbformat_minor": 5
}
