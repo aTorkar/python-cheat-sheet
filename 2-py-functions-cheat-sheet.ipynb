{
 "cells": [
  {
   "cell_type": "markdown",
   "id": "d4e8fe03",
   "metadata": {},
   "source": [
    "# Functions"
   ]
  },
  {
   "cell_type": "markdown",
   "id": "5c4cc064",
   "metadata": {},
   "source": [
    "## Define a function"
   ]
  },
  {
   "cell_type": "markdown",
   "id": "86abcd1e",
   "metadata": {},
   "source": [
    "Python function declaration syntax: \n",
    "```python\n",
    "def function_name(parameters: type) -> type:\n",
    "    # statement\n",
    "    return expression\n",
    "```"
   ]
  },
  {
   "cell_type": "code",
   "execution_count": 1,
   "id": "7a9049ea",
   "metadata": {},
   "outputs": [],
   "source": [
    "# basic\n",
    "def greet() -> None:\n",
    "    print(\"Hello, world!\")\n",
    "\n",
    "# with parameters\n",
    "# accepts 2 parameters, \"first\" and \"second\", sums them, prints and returns the result\n",
    "def kitten_summing(first: int, second: int) -> int:\n",
    "    sum_num = first + second\n",
    "    print(sum_num)\n",
    "    return sum_num\n",
    "    \n",
    "# with default argument\n",
    "# accepts 1 parameter \"name\". If no parameter is given, it uses \n",
    "def greetings(name: str=\"Anon\") -> None:\n",
    "    print(\"Hi, my name is\", name)\n",
    "    \n",
    "# with variable amount of paramaters (no parameters or many)\n",
    "def kitten_summing_diff_inputs(*args: int):\n",
    "    sum_num = 0\n",
    "    for num in args:\n",
    "        sum_num += num\n",
    "    print(\"Kitten summed the amount to\", sum_num)\n"
   ]
  },
  {
   "cell_type": "code",
   "execution_count": 2,
   "id": "aae38441",
   "metadata": {},
   "outputs": [
    {
     "name": "stdout",
     "output_type": "stream",
     "text": [
      "Basic function:\n",
      "Hello, world!\n",
      "################\n",
      "Functions with parameters:\n",
      "7\n",
      "0\n",
      "################\n",
      "Function with default parameter:\n",
      "Hi, my name is Anon\n",
      "Hi, my name is Frank The Octopus\n",
      "################\n",
      "Function with variable amount of parameters:\n",
      "Kitten summed the amount to 0\n",
      "8\n",
      "Kitten summed the amount to 13\n",
      "Kitten summed the amount to 15\n"
     ]
    }
   ],
   "source": [
    "# call the functions from the previous block\n",
    "print(\"Basic function:\")\n",
    "greet()\n",
    "print(\"################\")\n",
    "print(\"Functions with parameters:\")\n",
    "kitten_summing(2, 5)\n",
    "kitten_summing(0, 0)\n",
    "print(\"################\")\n",
    "print(\"Function with default parameter:\")\n",
    "greetings()\n",
    "greetings(\"Frank The Octopus\")\n",
    "print(\"################\")\n",
    "print(\"Function with variable amount of parameters:\")\n",
    "kitten_summing_diff_inputs()\n",
    "kitten_summing_diff_inputs(5, kitten_summing(5, 3))\n",
    "kitten_summing_diff_inputs(1, 2, 3, 4, 5)"
   ]
  },
  {
   "cell_type": "markdown",
   "id": "0e1517c8",
   "metadata": {},
   "source": [
    "## Anonymous function (lambda)"
   ]
  },
  {
   "cell_type": "markdown",
   "id": "14d8c6d0",
   "metadata": {},
   "source": [
    "Lambda syntax:\n",
    "```python\n",
    "lambda arguments : expression\n",
    "```"
   ]
  },
  {
   "cell_type": "markdown",
   "id": "bad2673e",
   "metadata": {},
   "source": [
    "<div class=\"alert alert-block alert-info\">\n",
    "    <li>it's discouraged to use labmda, unless in a very simple form</li>\n",
    "    <li>there's no convenient way to use types</li>\n",
    "</div>"
   ]
  },
  {
   "cell_type": "code",
   "execution_count": 9,
   "id": "ae9b1bcd",
   "metadata": {},
   "outputs": [
    {
     "name": "stdout",
     "output_type": "stream",
     "text": [
      "Double: 6\n",
      "Add: 7\n",
      "[(1, 5), (3, 8), (2, 10)]\n"
     ]
    }
   ],
   "source": [
    "double = lambda x: x * 2\n",
    "print(\"Double:\", double(3))\n",
    "\n",
    "add = lambda x, y: x + y\n",
    "print(\"Add:\", add(3, 4))\n",
    "\n",
    "# sorts the list of tuples by the size of the 2nd element from smallest to largest\n",
    "lst_tuples = [(2, 10), (1, 5), (3, 8)]\n",
    "lst_tuples.sort(key=lambda x: x[1])\n",
    "print(lst_tuples)"
   ]
  },
  {
   "cell_type": "code",
   "execution_count": 4,
   "id": "a80d2406",
   "metadata": {},
   "outputs": [
    {
     "name": "stdout",
     "output_type": "stream",
     "text": [
      "do_exclaim(): I am a dinosaur!\n",
      "find_sum(): 9\n"
     ]
    }
   ],
   "source": [
    "do_exclaim = lambda s: s + '!'\n",
    "print(\"do_exclaim():\", do_exclaim(\"I am a dinosaur\"))\n",
    " \n",
    "find_sum = lambda n: sum([int(x) for x in str(n)])\n",
    "print(\"find_sum():\", find_sum(108))"
   ]
  },
  {
   "cell_type": "code",
   "execution_count": 2,
   "id": "be164815",
   "metadata": {},
   "outputs": [
    {
     "name": "stdout",
     "output_type": "stream",
     "text": [
      "7.0\n",
      "11.0\n"
     ]
    },
    {
     "data": {
      "text/plain": [
       "11.0"
      ]
     },
     "execution_count": 2,
     "metadata": {},
     "output_type": "execute_result"
    }
   ],
   "source": [
    "def adder(first: int, second: float) -> float:\n",
    "    sum_value = first + second\n",
    "    print(sum_value)\n",
    "    return sum_value\n",
    "\n",
    "def multiplier(first: int, second: float) -> float:\n",
    "    mult_value = first * second\n",
    "    print(mult_value)\n",
    "    return mult_value\n",
    "\n",
    "adder(4, multiplier(2, 3.5))"
   ]
  },
  {
   "cell_type": "markdown",
   "id": "65d1e6f8",
   "metadata": {},
   "source": [
    "***"
   ]
  },
  {
   "cell_type": "markdown",
   "id": "d874fd0b",
   "metadata": {},
   "source": [
    "## asyncio"
   ]
  },
  {
   "cell_type": "markdown",
   "id": "fdb9f442",
   "metadata": {},
   "source": [
    "<div class=\"alert alert-block alert-info\">\n",
    "    <li>allows you to perform multiple tasks concurrently without blocking the execution of other tasks</li>\n",
    "    <li>only one part of a program will run at a certain time</li>\n",
    "    <li>instead of waiting for one operation to complete before moving to the next one, you can initiate multiple operations</li>\n",
    "    <li>particularly useful for I/O-bound operations such as network requests, file operations, or interacting with databases</li>\n",
    "</div>"
   ]
  },
  {
   "cell_type": "markdown",
   "id": "aa072644",
   "metadata": {},
   "source": [
    "### Coroutine"
   ]
  },
  {
   "cell_type": "markdown",
   "id": "3e6a9495",
   "metadata": {},
   "source": [
    "<div class=\"alert alert-block alert-warning\">\n",
    "    <li>asyncio can encounter issues in Jupyter Notebook; J.N. has its own event loop running in the background, which can interfere with the event loop used by asyncio</li>\n",
    "    <li>Blocking the Jupyter event loop</li>\n",
    "    <li>Conflicts with the Jupyter event loop</li>\n",
    "    <li>To work around these issues, you can consider alternative approaches, such as using threaded or process-based concurrency models or leverage libraries that provide asynchronous functionality specifically designed for Jupyter Notebook, like ipykernel or nest_asyncio</li>\n",
    "</div>"
   ]
  },
  {
   "cell_type": "markdown",
   "id": "78b6a6f1",
   "metadata": {},
   "source": [
    "Coppy the code and run it locally if you want to test:\n",
    "```python\n",
    "import asyncio\n",
    "\n",
    "async def greet(name:str) -> None:\n",
    "    print(f\"Hello, {name}!\")\n",
    "    await asyncio.sleep(3) # wait 3 sec\n",
    "    print(f\"Goodbye, {name}!\")\n",
    "\n",
    "async def main() -> None:\n",
    "    await asyncio.gather(\n",
    "        greet(\"Alice\"),\n",
    "        greet(\"Bob\"),\n",
    "        greet(\"Charlie\")\n",
    "    )\n",
    "\n",
    "loop = asyncio.get_event_loop()\n",
    "task = loop.create_task(main())\n",
    "\n",
    "try:\n",
    "    loop.run_until_complete(task)\n",
    "finally:\n",
    "    loop.close()\n",
    "```"
   ]
  }
 ],
 "metadata": {
  "kernelspec": {
   "display_name": "Python 3 (ipykernel)",
   "language": "python",
   "name": "python3"
  },
  "language_info": {
   "codemirror_mode": {
    "name": "ipython",
    "version": 3
   },
   "file_extension": ".py",
   "mimetype": "text/x-python",
   "name": "python",
   "nbconvert_exporter": "python",
   "pygments_lexer": "ipython3",
   "version": "3.11.3"
  }
 },
 "nbformat": 4,
 "nbformat_minor": 5
}
